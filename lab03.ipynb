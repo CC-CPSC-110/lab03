{
 "cells": [
  {
   "cell_type": "markdown",
   "metadata": {
    "editable": true,
    "slideshow": {
     "slide_type": ""
    },
    "tags": []
   },
   "source": [
    "CPSC 110 Lab 2 Due: Fri Sept. 20, 2024, 9:00am\n",
    "\n",
    "General Lab Instructions:\n",
    "1. All assignments will be submitted through Canvas. If you submit multiple times, the most recent submission will be graded.\n",
    "\n",
    "2. You will typically explain your code from the last lab to the instructor at the beginning of the next lab to receive your full marks and feedback.\n",
    "\n",
    "3. If you work with other people, list all of your names on the assignment. Each assignment will specify how many others you can work with.\n",
    "\n",
    "4. Please review the collage’s plagiarism policies. As a general rule, copy/paste should never be used for any code. Ever. You may discuss topics with other students and reference online materials, but the final assignment must be written by the student. If you reference materials/people besides the textbook/instructor then cite this in a file contributions.txt. Full citations are not necessary, a bullet point list of the materials/people that you references is suitable.\n",
    "\n",
    "5. Code will be graded for functionality as well as quality. This means code that should be easy to read with descriptive variable names and appropriate comments.\n",
    "\n",
    "6. You should aim to stick to the concepts we have already covered in class. For example, do not use ”if statements” on assignment 1 since it was not covered in lecture 1. If you have studied programming elsewhere then it is tempting to jump ahead, but full marks will only be given to assignments that are focused on this course’s content.\n",
    "\n",
    "7. Code that cannot run successively in Python 3 will receive a zero. Make sure you are using the correct python version and allow yourself enough time for thorough testing.\n",
    "\n",
    "8. At the start of each assignment will be a list of the required files for submission. All files should be com- pressed in one zip folder named <studentnumber>_<yourname >_LAB < number >_CPSC110.zip. For example: 21870110_LUKESKYWALKER_LAB01_CPSC110.zip"
   ]
  },
  {
   "cell_type": "markdown",
   "metadata": {
    "editable": true,
    "slideshow": {
     "slide_type": ""
    },
    "tags": []
   },
   "source": [
    "Lab 03 intructions:\n",
    "- Total points: 30\n",
    "- Due: Fri Sep. 27, 2023, 9:00am\n",
    "- Required files:\n",
    "  - hello.py\n",
    "  - table.md\n",
    "  - pokemon.py\n",
    "  - pokemon_api.py\n",
    "  - .gitignore\n",
    "  - README.md\n",
    "\n"
   ]
  },
  {
   "cell_type": "markdown",
   "metadata": {
    "collapsed": true,
    "editable": true,
    "jupyter": {
     "outputs_hidden": true
    },
    "slideshow": {
     "slide_type": ""
    },
    "tags": []
   },
   "source": [
    "# Lab 03 HtDF Tutorial\n",
    "\n",
    "For each problem, write the signature, purpose, and stub. "
   ]
  },
  {
   "cell_type": "markdown",
   "metadata": {
    "collapsed": true,
    "editable": true,
    "jupyter": {
     "outputs_hidden": true
    },
    "slideshow": {
     "slide_type": ""
    },
    "tags": []
   },
   "source": [
    "### Problem 1:\n",
    "    \n",
    "Design a function that accepts a string and returns the string with 'Hello world! ' at the beginning of the string.\n",
    "\n",
    "For example, if you call the function with \"Good Morning\", the function should return \"Hello world! Good Morning\".\n",
    "\n",
    "When designing your function, be sure to follow all steps of the HtDF recipe."
   ]
  },
  {
   "cell_type": "markdown",
   "metadata": {
    "collapsed": true,
    "editable": true,
    "jupyter": {
     "outputs_hidden": true
    },
    "slideshow": {
     "slide_type": ""
    },
    "tags": []
   },
   "source": [
    "### Problem 1:\n",
    "    \n",
    "Design a function that accepts a string and returns the string with 'Hello world! ' at the beginning of the string.\n",
    "\n",
    "For example, if you call the function with \"Good Morning\", the function should return \"Hello world! Good Morning\".\n",
    "\n",
    "When designing your function, be sure to follow all steps of the HtDF recipe."
   ]
  },
  {
   "cell_type": "code",
   "execution_count": null,
   "metadata": {},
   "outputs": [],
   "source": [
    "# Put your solution to Problem 1 here\n"
   ]
  },
  {
   "cell_type": "markdown",
   "metadata": {
    "collapsed": true,
    "editable": true,
    "jupyter": {
     "outputs_hidden": true
    },
    "slideshow": {
     "slide_type": ""
    },
    "tags": []
   },
   "source": [
    "### Problem 2:\n",
    "\n",
    "We are working with an API: https://pokeapi.co/. This API allows us to fetch different types (e.g., name, type, height, weight, base_stat) of information on Pokemon.\n",
    "\n",
    "Here are some functions of interest:\n",
    "\n",
    "- `get_pokemon_name(pokemon_id: int) -> str`\n",
    "\n",
    "\n",
    "- `get_pokemon_attack(pokemon_name: str) -> int`\n",
    "\n",
    "\n",
    "- `get_pokemon_defense(pokemon_name: str) -> int`\n",
    "\n",
    "\n",
    "- `get_pokemon_height(pokemon_name: str) -> int`\n",
    "\n",
    "\n",
    "- `get_pokemon_weight(pokemon_name: str) -> int`\n",
    "\n",
    "\n",
    "- `get_pokemon_num_types(pokemon_name: str) -> int`\n",
    "\n",
    "\n",
    "- `get_pokemon_type1(country_name: str) -> str`\n",
    "\n",
    "\n",
    "- `get_pokemon_type2(country_name: str) -> str`\n"
   ]
  },
  {
   "cell_type": "markdown",
   "metadata": {
    "editable": true,
    "slideshow": {
     "slide_type": ""
    },
    "tags": []
   },
   "source": [
    "Complete the following table as a [markdown](https://www.markdownguide.org/) file with information about three different Pokemon. Each Pokemon has a unique ID number. If you are not familiar with Pokemon, just choose three random numbers from 1 to 898 (inclusive).\n",
    "\n",
    "The first row is provided as an example and does not count towards the three rows you have to fill out yourself.\n",
    "\n",
    "\n",
    "| ID  | Name       | Attack | Defense | Number of Types | Type 1  | Type 2  |\n",
    "| --- | ---        | ---    | ---     | ---             | ---     | ---     |\n",
    "| 132 | ditto      | 48     | 48      | 1               | normal  | None    |\n"
   ]
  },
  {
   "cell_type": "markdown",
   "metadata": {
    "editable": true,
    "slideshow": {
     "slide_type": ""
    },
    "tags": []
   },
   "source": [
    "# Example of how the first row was completed.\n",
    "\n",
    "```python\n",
    "get_pokemon_name(132)\n",
    "get_pokemon_attack(\"ditto\")\n",
    "get_pokemon_defense(\"ditto\")\n",
    "get_pokemon_num_types(\"ditto\")\n",
    "get_pokemon_type1(\"ditto\")\n",
    "get_pokemon_type2(\"ditto\")\n",
    "```"
   ]
  },
  {
   "cell_type": "markdown",
   "metadata": {
    "editable": true,
    "slideshow": {
     "slide_type": ""
    },
    "tags": []
   },
   "source": [
    "### Problem 3:\n",
    "\n",
    "As indicated by the table in Problem 2, Pokemon have a given type and on occasion, a secondary type. Every Pokemon also has an associated attack value.\n",
    "\n",
    "In this problem, we will work with something called a modified attack value. The modified attack value is the attack value of a Pokemon multiplied by the number of types that it has.\n",
    "\n",
    "Design a function that accepts a Pokemon ID number and returns the modified attack value.\n",
    "\n",
    "When designing your function, be sure to follow all steps of the HtDF recipe **including designing your tests first**."
   ]
  },
  {
   "cell_type": "markdown",
   "metadata": {
    "editable": true,
    "slideshow": {
     "slide_type": ""
    },
    "tags": []
   },
   "source": [
    "### Problem 4:\n",
    "\n",
    "Given two Pokemons IDs, design a function that returns the name of the Pokemon with the largest modified attack. If possible, try to call your function from Problem 3.\n",
    "    \n",
    "When designing your function, be sure to follow all steps of the HtDF recipe **including designing your tests first**. "
   ]
  },
  {
   "cell_type": "markdown",
   "metadata": {
    "editable": true,
    "slideshow": {
     "slide_type": ""
    },
    "tags": []
   },
   "source": [
    "### Problem 5:\n",
    "\n",
    "In one-on-one battle, an attacking Pokemon inflicts damage if its modified attack is strictly greater than the other Pokemon's defense.  Given the ID of the attacking Pokemon and the ID of the defending Pokemon, design a function to determine if the attacking Pokemon inflicts damage. \n",
    "\n",
    "For this problem, you should consider the attack of a Pokemon as its modified attack as calculated in Problem 3.\n",
    "    \n",
    "When designing your function, be sure to follow all steps of the HtDF recipe **including designing your tests first**."
   ]
  }
 ],
 "metadata": {
  "kernelspec": {
   "display_name": "Python 3 (ipykernel)",
   "language": "python",
   "name": "python3"
  },
  "language_info": {
   "codemirror_mode": {
    "name": "ipython",
    "version": 3
   },
   "file_extension": ".py",
   "mimetype": "text/x-python",
   "name": "python",
   "nbconvert_exporter": "python",
   "pygments_lexer": "ipython3",
   "version": "3.12.2"
  }
 },
 "nbformat": 4,
 "nbformat_minor": 4
}
